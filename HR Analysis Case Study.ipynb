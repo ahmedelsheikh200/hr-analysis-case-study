{
 "cells": [
  {
   "cell_type": "markdown",
   "id": "ad4a1b00",
   "metadata": {
    "id": "ad4a1b00"
   },
   "source": [
    "![hr.jpg](attachment:hr.jpg)"
   ]
  },
  {
   "cell_type": "markdown",
   "id": "4298e92e",
   "metadata": {
    "id": "4298e92e"
   },
   "source": [
    "# Answer these questions using the libraries Pandas and Numpy."
   ]
  },
  {
   "cell_type": "markdown",
   "id": "217e72fd",
   "metadata": {
    "id": "217e72fd"
   },
   "source": [
    "1-How many rows and columns are there in the dataset?\n",
    "\n",
    "2-What are the unique values in the 'department' column?\n",
    "\n",
    "3-How many unique regions are covered in the dataset?\n",
    "\n",
    "4-What are the different levels of education among the employees?\n",
    "\n",
    "5-How many male and female employees are there in the dataset?\n",
    "\n",
    "6-What are the different recruitment channels used by the company?\n",
    "\n",
    "7-What is the maximum number of trainings attended by an employee?\n",
    "\n",
    "8-What is the average age of employees in the dataset?\n",
    "\n",
    "9-What is the maximum length of service among the employees?\n",
    "\n",
    "10-What percentage of employees in the dataset were actually promoted?\n",
    "\n",
    "11-What is the average age of promoted employees compared to non-promoted ones?\n",
    "\n",
    "12-How does the average training score differ between promoted and non-promoted employees?\n",
    "\n",
    "13-What is the average length of service for promoted employees?\n",
    "\n",
    "14-What is the proportion of employees who have won awards among promoted employees?\n",
    "\n",
    "15-Is there a correlation between KPIs met >80% and promotion?\n",
    "\n",
    "16-What is the correlation between the number of trainings attended and promotion?\n",
    "\n",
    "17-How does the length of service correlate with the average training score?\n",
    "\n",
    "18-Is there any correlation between age and the number of trainings attended?\n",
    "\n",
    "19-How can you group the data by department and calculate the average age for each department?\n",
    "\n",
    "20-What is the total number of trainings attended by employees in each region?"
   ]
  },
  {
   "cell_type": "code",
   "execution_count": 1,
   "id": "4fd9be4d",
   "metadata": {
    "id": "4fd9be4d"
   },
   "outputs": [],
   "source": [
    "#import libraries\n",
    "import numpy as np\n",
    "import pandas as pd\n",
    "import matplotlib.pyplot as plt"
   ]
  },
  {
   "cell_type": "code",
   "execution_count": 2,
   "id": "6aa19f93",
   "metadata": {
    "id": "6aa19f93"
   },
   "outputs": [],
   "source": [
    "#read csv file\n",
    "df = pd.read_csv(\"data.csv\")"
   ]
  },
  {
   "cell_type": "code",
   "execution_count": 3,
   "id": "64a738c5",
   "metadata": {
    "id": "64a738c5"
   },
   "outputs": [
    {
     "data": {
      "text/html": [
       "<div>\n",
       "<style scoped>\n",
       "    .dataframe tbody tr th:only-of-type {\n",
       "        vertical-align: middle;\n",
       "    }\n",
       "\n",
       "    .dataframe tbody tr th {\n",
       "        vertical-align: top;\n",
       "    }\n",
       "\n",
       "    .dataframe thead th {\n",
       "        text-align: right;\n",
       "    }\n",
       "</style>\n",
       "<table border=\"1\" class=\"dataframe\">\n",
       "  <thead>\n",
       "    <tr style=\"text-align: right;\">\n",
       "      <th></th>\n",
       "      <th>employee_id</th>\n",
       "      <th>department</th>\n",
       "      <th>region</th>\n",
       "      <th>education</th>\n",
       "      <th>gender</th>\n",
       "      <th>recruitment_channel</th>\n",
       "      <th>no_of_trainings</th>\n",
       "      <th>age</th>\n",
       "      <th>previous_year_rating</th>\n",
       "      <th>length_of_service</th>\n",
       "      <th>KPIs_met &gt;80%</th>\n",
       "      <th>awards_won?</th>\n",
       "      <th>avg_training_score</th>\n",
       "      <th>is_promoted</th>\n",
       "    </tr>\n",
       "  </thead>\n",
       "  <tbody>\n",
       "    <tr>\n",
       "      <th>0</th>\n",
       "      <td>65438</td>\n",
       "      <td>Sales &amp; Marketing</td>\n",
       "      <td>region_7</td>\n",
       "      <td>Master's &amp; above</td>\n",
       "      <td>f</td>\n",
       "      <td>sourcing</td>\n",
       "      <td>1</td>\n",
       "      <td>35</td>\n",
       "      <td>5.0</td>\n",
       "      <td>8</td>\n",
       "      <td>1</td>\n",
       "      <td>0</td>\n",
       "      <td>49</td>\n",
       "      <td>0</td>\n",
       "    </tr>\n",
       "    <tr>\n",
       "      <th>1</th>\n",
       "      <td>65141</td>\n",
       "      <td>Operations</td>\n",
       "      <td>region_22</td>\n",
       "      <td>Bachelor's</td>\n",
       "      <td>m</td>\n",
       "      <td>other</td>\n",
       "      <td>1</td>\n",
       "      <td>30</td>\n",
       "      <td>5.0</td>\n",
       "      <td>4</td>\n",
       "      <td>0</td>\n",
       "      <td>0</td>\n",
       "      <td>60</td>\n",
       "      <td>0</td>\n",
       "    </tr>\n",
       "    <tr>\n",
       "      <th>2</th>\n",
       "      <td>7513</td>\n",
       "      <td>Sales &amp; Marketing</td>\n",
       "      <td>region_19</td>\n",
       "      <td>Bachelor's</td>\n",
       "      <td>m</td>\n",
       "      <td>sourcing</td>\n",
       "      <td>1</td>\n",
       "      <td>34</td>\n",
       "      <td>3.0</td>\n",
       "      <td>7</td>\n",
       "      <td>0</td>\n",
       "      <td>0</td>\n",
       "      <td>50</td>\n",
       "      <td>0</td>\n",
       "    </tr>\n",
       "    <tr>\n",
       "      <th>3</th>\n",
       "      <td>2542</td>\n",
       "      <td>Sales &amp; Marketing</td>\n",
       "      <td>region_23</td>\n",
       "      <td>Bachelor's</td>\n",
       "      <td>m</td>\n",
       "      <td>other</td>\n",
       "      <td>2</td>\n",
       "      <td>39</td>\n",
       "      <td>1.0</td>\n",
       "      <td>10</td>\n",
       "      <td>0</td>\n",
       "      <td>0</td>\n",
       "      <td>50</td>\n",
       "      <td>0</td>\n",
       "    </tr>\n",
       "    <tr>\n",
       "      <th>4</th>\n",
       "      <td>48945</td>\n",
       "      <td>Technology</td>\n",
       "      <td>region_26</td>\n",
       "      <td>Bachelor's</td>\n",
       "      <td>m</td>\n",
       "      <td>other</td>\n",
       "      <td>1</td>\n",
       "      <td>45</td>\n",
       "      <td>3.0</td>\n",
       "      <td>2</td>\n",
       "      <td>0</td>\n",
       "      <td>0</td>\n",
       "      <td>73</td>\n",
       "      <td>0</td>\n",
       "    </tr>\n",
       "    <tr>\n",
       "      <th>...</th>\n",
       "      <td>...</td>\n",
       "      <td>...</td>\n",
       "      <td>...</td>\n",
       "      <td>...</td>\n",
       "      <td>...</td>\n",
       "      <td>...</td>\n",
       "      <td>...</td>\n",
       "      <td>...</td>\n",
       "      <td>...</td>\n",
       "      <td>...</td>\n",
       "      <td>...</td>\n",
       "      <td>...</td>\n",
       "      <td>...</td>\n",
       "      <td>...</td>\n",
       "    </tr>\n",
       "    <tr>\n",
       "      <th>54803</th>\n",
       "      <td>3030</td>\n",
       "      <td>Technology</td>\n",
       "      <td>region_14</td>\n",
       "      <td>Bachelor's</td>\n",
       "      <td>m</td>\n",
       "      <td>sourcing</td>\n",
       "      <td>1</td>\n",
       "      <td>48</td>\n",
       "      <td>3.0</td>\n",
       "      <td>17</td>\n",
       "      <td>0</td>\n",
       "      <td>0</td>\n",
       "      <td>78</td>\n",
       "      <td>0</td>\n",
       "    </tr>\n",
       "    <tr>\n",
       "      <th>54804</th>\n",
       "      <td>74592</td>\n",
       "      <td>Operations</td>\n",
       "      <td>region_27</td>\n",
       "      <td>Master's &amp; above</td>\n",
       "      <td>f</td>\n",
       "      <td>other</td>\n",
       "      <td>1</td>\n",
       "      <td>37</td>\n",
       "      <td>2.0</td>\n",
       "      <td>6</td>\n",
       "      <td>0</td>\n",
       "      <td>0</td>\n",
       "      <td>56</td>\n",
       "      <td>0</td>\n",
       "    </tr>\n",
       "    <tr>\n",
       "      <th>54805</th>\n",
       "      <td>13918</td>\n",
       "      <td>Analytics</td>\n",
       "      <td>region_1</td>\n",
       "      <td>Bachelor's</td>\n",
       "      <td>m</td>\n",
       "      <td>other</td>\n",
       "      <td>1</td>\n",
       "      <td>27</td>\n",
       "      <td>5.0</td>\n",
       "      <td>3</td>\n",
       "      <td>1</td>\n",
       "      <td>0</td>\n",
       "      <td>79</td>\n",
       "      <td>0</td>\n",
       "    </tr>\n",
       "    <tr>\n",
       "      <th>54806</th>\n",
       "      <td>13614</td>\n",
       "      <td>Sales &amp; Marketing</td>\n",
       "      <td>region_9</td>\n",
       "      <td>NaN</td>\n",
       "      <td>m</td>\n",
       "      <td>sourcing</td>\n",
       "      <td>1</td>\n",
       "      <td>29</td>\n",
       "      <td>1.0</td>\n",
       "      <td>2</td>\n",
       "      <td>0</td>\n",
       "      <td>0</td>\n",
       "      <td>45</td>\n",
       "      <td>0</td>\n",
       "    </tr>\n",
       "    <tr>\n",
       "      <th>54807</th>\n",
       "      <td>51526</td>\n",
       "      <td>HR</td>\n",
       "      <td>region_22</td>\n",
       "      <td>Bachelor's</td>\n",
       "      <td>m</td>\n",
       "      <td>other</td>\n",
       "      <td>1</td>\n",
       "      <td>27</td>\n",
       "      <td>1.0</td>\n",
       "      <td>5</td>\n",
       "      <td>0</td>\n",
       "      <td>0</td>\n",
       "      <td>49</td>\n",
       "      <td>0</td>\n",
       "    </tr>\n",
       "  </tbody>\n",
       "</table>\n",
       "<p>54808 rows × 14 columns</p>\n",
       "</div>"
      ],
      "text/plain": [
       "       employee_id         department     region         education gender  \\\n",
       "0            65438  Sales & Marketing   region_7  Master's & above      f   \n",
       "1            65141         Operations  region_22        Bachelor's      m   \n",
       "2             7513  Sales & Marketing  region_19        Bachelor's      m   \n",
       "3             2542  Sales & Marketing  region_23        Bachelor's      m   \n",
       "4            48945         Technology  region_26        Bachelor's      m   \n",
       "...            ...                ...        ...               ...    ...   \n",
       "54803         3030         Technology  region_14        Bachelor's      m   \n",
       "54804        74592         Operations  region_27  Master's & above      f   \n",
       "54805        13918          Analytics   region_1        Bachelor's      m   \n",
       "54806        13614  Sales & Marketing   region_9               NaN      m   \n",
       "54807        51526                 HR  region_22        Bachelor's      m   \n",
       "\n",
       "      recruitment_channel  no_of_trainings  age  previous_year_rating  \\\n",
       "0                sourcing                1   35                   5.0   \n",
       "1                   other                1   30                   5.0   \n",
       "2                sourcing                1   34                   3.0   \n",
       "3                   other                2   39                   1.0   \n",
       "4                   other                1   45                   3.0   \n",
       "...                   ...              ...  ...                   ...   \n",
       "54803            sourcing                1   48                   3.0   \n",
       "54804               other                1   37                   2.0   \n",
       "54805               other                1   27                   5.0   \n",
       "54806            sourcing                1   29                   1.0   \n",
       "54807               other                1   27                   1.0   \n",
       "\n",
       "       length_of_service  KPIs_met >80%  awards_won?  avg_training_score  \\\n",
       "0                      8              1            0                  49   \n",
       "1                      4              0            0                  60   \n",
       "2                      7              0            0                  50   \n",
       "3                     10              0            0                  50   \n",
       "4                      2              0            0                  73   \n",
       "...                  ...            ...          ...                 ...   \n",
       "54803                 17              0            0                  78   \n",
       "54804                  6              0            0                  56   \n",
       "54805                  3              1            0                  79   \n",
       "54806                  2              0            0                  45   \n",
       "54807                  5              0            0                  49   \n",
       "\n",
       "       is_promoted  \n",
       "0                0  \n",
       "1                0  \n",
       "2                0  \n",
       "3                0  \n",
       "4                0  \n",
       "...            ...  \n",
       "54803            0  \n",
       "54804            0  \n",
       "54805            0  \n",
       "54806            0  \n",
       "54807            0  \n",
       "\n",
       "[54808 rows x 14 columns]"
      ]
     },
     "execution_count": 3,
     "metadata": {},
     "output_type": "execute_result"
    }
   ],
   "source": [
    "df"
   ]
  },
  {
   "cell_type": "markdown",
   "id": "940c0a85-2d63-44f7-b614-3c79c7d60834",
   "metadata": {},
   "source": [
    "#1-How many rows and columns are there in the dataset?"
   ]
  },
  {
   "cell_type": "code",
   "execution_count": 4,
   "id": "8e94ecd5-43a5-4372-9989-6502aa6cd856",
   "metadata": {},
   "outputs": [
    {
     "data": {
      "text/plain": [
       "(54808, 14)"
      ]
     },
     "execution_count": 4,
     "metadata": {},
     "output_type": "execute_result"
    }
   ],
   "source": [
    "df.shape\n",
    "# 54808 row , 14 column "
   ]
  },
  {
   "cell_type": "markdown",
   "id": "d3525446-d5a7-4d01-b7fb-1a5ecb52861f",
   "metadata": {},
   "source": [
    "#What are the unique values in the 'department' column?"
   ]
  },
  {
   "cell_type": "code",
   "execution_count": 5,
   "id": "5c111ec6-2c3c-4dce-b848-47a95bc40369",
   "metadata": {},
   "outputs": [
    {
     "data": {
      "text/plain": [
       "array(['Sales & Marketing', 'Operations', 'Technology', 'Analytics',\n",
       "       'R&D', 'Procurement', 'Finance', 'HR', 'Legal'], dtype=object)"
      ]
     },
     "execution_count": 5,
     "metadata": {},
     "output_type": "execute_result"
    }
   ],
   "source": [
    "df['department'].unique()\n",
    "# ans : 'Sales & Marketing', 'Operations', 'Technology', 'Analytics',\n",
    "      # 'R&D', 'Procurement', 'Finance', 'HR', 'Legal'"
   ]
  },
  {
   "cell_type": "code",
   "execution_count": 6,
   "id": "1fa52528-fbbe-4e82-b2b7-cf10d2eb1aa7",
   "metadata": {},
   "outputs": [
    {
     "data": {
      "text/plain": [
       "department\n",
       "Sales & Marketing    16840\n",
       "Operations           11348\n",
       "Technology            7138\n",
       "Procurement           7138\n",
       "Analytics             5352\n",
       "Finance               2536\n",
       "HR                    2418\n",
       "Legal                 1039\n",
       "R&D                    999\n",
       "Name: count, dtype: int64"
      ]
     },
     "execution_count": 6,
     "metadata": {},
     "output_type": "execute_result"
    }
   ],
   "source": [
    "df['department'].value_counts()"
   ]
  },
  {
   "cell_type": "markdown",
   "id": "fba5b9c5-17c7-4365-998d-297e790e1508",
   "metadata": {},
   "source": [
    "#3-How many unique regions are covered in the dataset?"
   ]
  },
  {
   "cell_type": "code",
   "execution_count": 7,
   "id": "b39025dd-825c-420e-87ff-7aef5b7d6a8a",
   "metadata": {},
   "outputs": [
    {
     "data": {
      "text/plain": [
       "34"
      ]
     },
     "execution_count": 7,
     "metadata": {},
     "output_type": "execute_result"
    }
   ],
   "source": [
    " df['region'].nunique()\n",
    "# ans : 34"
   ]
  },
  {
   "cell_type": "markdown",
   "id": "34a77b61-bbe8-40de-a9a8-c922fa792184",
   "metadata": {},
   "source": [
    "#What are the different levels of education among the employees?"
   ]
  },
  {
   "cell_type": "code",
   "execution_count": 8,
   "id": "8a36d4fa-6e42-42c0-a523-130a482ef803",
   "metadata": {},
   "outputs": [
    {
     "data": {
      "text/plain": [
       "array([\"Master's & above\", \"Bachelor's\", nan, 'Below Secondary'],\n",
       "      dtype=object)"
      ]
     },
     "execution_count": 8,
     "metadata": {},
     "output_type": "execute_result"
    }
   ],
   "source": [
    "df['education'].unique()\n",
    "# ans \"Master's & above\", \"Bachelor's\", 'Below Secondary'"
   ]
  },
  {
   "cell_type": "markdown",
   "id": "135283b6-d872-494c-8e87-a86eb00015f7",
   "metadata": {},
   "source": [
    "#5-How many male and female employees are there in the dataset?"
   ]
  },
  {
   "cell_type": "code",
   "execution_count": 9,
   "id": "552d7805-0129-4647-b6f2-8a4bb4b5e0ad",
   "metadata": {},
   "outputs": [
    {
     "data": {
      "text/plain": [
       "gender\n",
       "m    38496\n",
       "f    16312\n",
       "Name: count, dtype: int64"
      ]
     },
     "execution_count": 9,
     "metadata": {},
     "output_type": "execute_result"
    }
   ],
   "source": [
    "df['gender'].value_counts()\n",
    "#ans 38496 male    16312 female"
   ]
  },
  {
   "cell_type": "markdown",
   "id": "238106e2-a999-4d53-bba4-a8ea60b49776",
   "metadata": {},
   "source": [
    "#6-What are the different recruitment channels used by the company?"
   ]
  },
  {
   "cell_type": "code",
   "execution_count": 10,
   "id": "7f731530-bd70-456b-927f-036df1ee05b1",
   "metadata": {},
   "outputs": [
    {
     "data": {
      "text/plain": [
       "array(['sourcing', 'other', 'referred'], dtype=object)"
      ]
     },
     "execution_count": 10,
     "metadata": {},
     "output_type": "execute_result"
    }
   ],
   "source": [
    "df['recruitment_channel'].unique()\n",
    "# ans 'sourcing', 'other', 'referred'"
   ]
  },
  {
   "cell_type": "markdown",
   "id": "517988a2-5aca-411f-880a-e45f3bf078b5",
   "metadata": {},
   "source": [
    "7-What is the maximum number of trainings attended by an employee?"
   ]
  },
  {
   "cell_type": "code",
   "execution_count": 11,
   "id": "8a4136e4-e965-4e0f-8893-122f0bc09e73",
   "metadata": {},
   "outputs": [
    {
     "data": {
      "text/plain": [
       "10"
      ]
     },
     "execution_count": 11,
     "metadata": {},
     "output_type": "execute_result"
    }
   ],
   "source": [
    "df['no_of_trainings'].max()\n",
    "#ans 10"
   ]
  },
  {
   "cell_type": "code",
   "execution_count": 12,
   "id": "71559637-1df2-4212-8abc-7044f23d64a9",
   "metadata": {},
   "outputs": [
    {
     "data": {
      "text/html": [
       "<div>\n",
       "<style scoped>\n",
       "    .dataframe tbody tr th:only-of-type {\n",
       "        vertical-align: middle;\n",
       "    }\n",
       "\n",
       "    .dataframe tbody tr th {\n",
       "        vertical-align: top;\n",
       "    }\n",
       "\n",
       "    .dataframe thead th {\n",
       "        text-align: right;\n",
       "    }\n",
       "</style>\n",
       "<table border=\"1\" class=\"dataframe\">\n",
       "  <thead>\n",
       "    <tr style=\"text-align: right;\">\n",
       "      <th></th>\n",
       "      <th>employee_id</th>\n",
       "      <th>department</th>\n",
       "      <th>region</th>\n",
       "      <th>education</th>\n",
       "      <th>gender</th>\n",
       "      <th>recruitment_channel</th>\n",
       "      <th>no_of_trainings</th>\n",
       "      <th>age</th>\n",
       "      <th>previous_year_rating</th>\n",
       "      <th>length_of_service</th>\n",
       "      <th>KPIs_met &gt;80%</th>\n",
       "      <th>awards_won?</th>\n",
       "      <th>avg_training_score</th>\n",
       "      <th>is_promoted</th>\n",
       "    </tr>\n",
       "  </thead>\n",
       "  <tbody>\n",
       "    <tr>\n",
       "      <th>34496</th>\n",
       "      <td>49408</td>\n",
       "      <td>Procurement</td>\n",
       "      <td>region_2</td>\n",
       "      <td>Bachelor's</td>\n",
       "      <td>m</td>\n",
       "      <td>other</td>\n",
       "      <td>10</td>\n",
       "      <td>60</td>\n",
       "      <td>3.0</td>\n",
       "      <td>3</td>\n",
       "      <td>0</td>\n",
       "      <td>0</td>\n",
       "      <td>69</td>\n",
       "      <td>0</td>\n",
       "    </tr>\n",
       "  </tbody>\n",
       "</table>\n",
       "</div>"
      ],
      "text/plain": [
       "       employee_id   department    region   education gender  \\\n",
       "34496        49408  Procurement  region_2  Bachelor's      m   \n",
       "\n",
       "      recruitment_channel  no_of_trainings  age  previous_year_rating  \\\n",
       "34496               other               10   60                   3.0   \n",
       "\n",
       "       length_of_service  KPIs_met >80%  awards_won?  avg_training_score  \\\n",
       "34496                  3              0            0                  69   \n",
       "\n",
       "       is_promoted  \n",
       "34496            0  "
      ]
     },
     "execution_count": 12,
     "metadata": {},
     "output_type": "execute_result"
    }
   ],
   "source": [
    "#find the employee has  the maximum number of trainings attended by an employee?\n",
    "df.sort_values(by='no_of_trainings', ascending=False).head(1)"
   ]
  },
  {
   "cell_type": "markdown",
   "id": "5ab59c52-ee8a-48c8-b115-341b1f9abd8a",
   "metadata": {},
   "source": [
    "find the employee has  the maximum number of trainings attended by an employee?"
   ]
  },
  {
   "cell_type": "code",
   "execution_count": 13,
   "id": "219c1a2f-44f6-4d73-a9f5-9638e14ec109",
   "metadata": {},
   "outputs": [
    {
     "data": {
      "text/plain": [
       "35"
      ]
     },
     "execution_count": 13,
     "metadata": {},
     "output_type": "execute_result"
    }
   ],
   "source": [
    "round(df['age'].mean())"
   ]
  },
  {
   "cell_type": "markdown",
   "id": "1bce6dcf-0c7a-4756-99a8-0eecff4b392c",
   "metadata": {},
   "source": [
    "#9-What is the maximum length of service among the employees?"
   ]
  },
  {
   "cell_type": "code",
   "execution_count": 14,
   "id": "61cdba3b-f5b9-41e8-a5dd-0d55ce017888",
   "metadata": {},
   "outputs": [
    {
     "data": {
      "text/plain": [
       "37"
      ]
     },
     "execution_count": 14,
     "metadata": {},
     "output_type": "execute_result"
    }
   ],
   "source": [
    "df['length_of_service'].max()\n",
    "#ans 37"
   ]
  },
  {
   "cell_type": "code",
   "execution_count": 15,
   "id": "705bf3ce-b032-4dcd-95e0-2d5005858c3e",
   "metadata": {},
   "outputs": [
    {
     "data": {
      "text/html": [
       "<div>\n",
       "<style scoped>\n",
       "    .dataframe tbody tr th:only-of-type {\n",
       "        vertical-align: middle;\n",
       "    }\n",
       "\n",
       "    .dataframe tbody tr th {\n",
       "        vertical-align: top;\n",
       "    }\n",
       "\n",
       "    .dataframe thead th {\n",
       "        text-align: right;\n",
       "    }\n",
       "</style>\n",
       "<table border=\"1\" class=\"dataframe\">\n",
       "  <thead>\n",
       "    <tr style=\"text-align: right;\">\n",
       "      <th></th>\n",
       "      <th>employee_id</th>\n",
       "      <th>department</th>\n",
       "      <th>region</th>\n",
       "      <th>education</th>\n",
       "      <th>gender</th>\n",
       "      <th>recruitment_channel</th>\n",
       "      <th>no_of_trainings</th>\n",
       "      <th>age</th>\n",
       "      <th>previous_year_rating</th>\n",
       "      <th>length_of_service</th>\n",
       "      <th>KPIs_met &gt;80%</th>\n",
       "      <th>awards_won?</th>\n",
       "      <th>avg_training_score</th>\n",
       "      <th>is_promoted</th>\n",
       "    </tr>\n",
       "  </thead>\n",
       "  <tbody>\n",
       "    <tr>\n",
       "      <th>31071</th>\n",
       "      <td>51576</td>\n",
       "      <td>Sales &amp; Marketing</td>\n",
       "      <td>region_2</td>\n",
       "      <td>Bachelor's</td>\n",
       "      <td>m</td>\n",
       "      <td>sourcing</td>\n",
       "      <td>2</td>\n",
       "      <td>60</td>\n",
       "      <td>5.0</td>\n",
       "      <td>37</td>\n",
       "      <td>0</td>\n",
       "      <td>0</td>\n",
       "      <td>48</td>\n",
       "      <td>0</td>\n",
       "    </tr>\n",
       "  </tbody>\n",
       "</table>\n",
       "</div>"
      ],
      "text/plain": [
       "       employee_id         department    region   education gender  \\\n",
       "31071        51576  Sales & Marketing  region_2  Bachelor's      m   \n",
       "\n",
       "      recruitment_channel  no_of_trainings  age  previous_year_rating  \\\n",
       "31071            sourcing                2   60                   5.0   \n",
       "\n",
       "       length_of_service  KPIs_met >80%  awards_won?  avg_training_score  \\\n",
       "31071                 37              0            0                  48   \n",
       "\n",
       "       is_promoted  \n",
       "31071            0  "
      ]
     },
     "execution_count": 15,
     "metadata": {},
     "output_type": "execute_result"
    }
   ],
   "source": [
    "df.sort_values(by='length_of_service', ascending=False).head(1)"
   ]
  },
  {
   "cell_type": "markdown",
   "id": "61d55247-37a1-4f81-b283-e5f0b29243ed",
   "metadata": {},
   "source": [
    "10-What percentage of employees in the dataset were actually promoted?"
   ]
  },
  {
   "cell_type": "code",
   "execution_count": 16,
   "id": "e9b2e490-a7b7-42d1-9b62-aa32143dd698",
   "metadata": {},
   "outputs": [
    {
     "name": "stdout",
     "output_type": "stream",
     "text": [
      "8.517004816815064\n",
      "9\n"
     ]
    }
   ],
   "source": [
    "total_employees = df['employee_id'].count()\n",
    "promoted_employees = df[df['is_promoted'] == 1]['employee_id'].count()\n",
    "\n",
    "percentage_promoted = (promoted_employees * 100.0) / total_employees\n",
    "print (percentage_promoted) #ans = 8.52\n",
    "print(round(percentage_promoted))  #ans = 9"
   ]
  },
  {
   "cell_type": "code",
   "execution_count": 17,
   "id": "01689da7-1835-4bb4-94b9-2c39917f2200",
   "metadata": {},
   "outputs": [
    {
     "data": {
      "image/png": "[encoded data removed]",
      "text/plain": [
       "<Figure size 576x432 with 1 Axes>"
      ]
     },
     "metadata": {},
     "output_type": "display_data"
    }
   ],
   "source": [
    "# Data for the pie chart\n",
    "total_employees = df['employee_id'].count()\n",
    "promoted_employees = df[df['is_promoted'] == 1]['employee_id'].count()\n",
    "percentage_promoted = (promoted_employees * 100.0) / total_employees\n",
    "not_promoted_percentage = 100-percentage_promoted\n",
    "labels = ['Promoted', 'Not Promoted']\n",
    "sizes = [percentage_promoted, not_promoted_percentage]\n",
    "colors = ['#4CAF50', '#FFC107']  # Colors for the sections\n",
    "explode = (0.1, 0)  # Explode the first slice (Promoted)\n",
    "\n",
    "# Create the pie chart\n",
    "plt.figure(figsize=(8, 6))\n",
    "plt.pie(sizes, explode=explode, labels=labels, colors=colors,\n",
    "        autopct='%1.1f%%', shadow=True, startangle=140)\n",
    "\n",
    "# Equal aspect ratio ensures the pie chart is circular\n",
    "plt.axis('equal')  \n",
    "\n",
    "# Title\n",
    "plt.title('Employee Promotion Status')\n",
    "\n",
    "# Show the chart\n",
    "plt.show()\n"
   ]
  },
  {
   "cell_type": "markdown",
   "id": "a6da2e75-9abb-4504-af67-b4371b7a4794",
   "metadata": {},
   "source": [
    "11-What is the average age of promoted employees compared to non-promoted ones?"
   ]
  },
  {
   "cell_type": "code",
   "execution_count": 18,
   "id": "95243564-d62f-42ac-b0db-c83da0839ebc",
   "metadata": {},
   "outputs": [
    {
     "name": "stdout",
     "output_type": "stream",
     "text": [
      "34.37\n",
      "34.84\n"
     ]
    }
   ],
   "source": [
    "print(round(df[df['is_promoted'] == 1]['age'].mean(), 2)) #promoted   #ans 34.37\n",
    "print(round(df[df['is_promoted'] == 0]['age'].mean(), 2))  #non_promoted  #ans 34.84"
   ]
  },
  {
   "cell_type": "markdown",
   "id": "8dcde99b-1d0e-437b-acaa-3583c12857cb",
   "metadata": {},
   "source": [
    "12-How does the average training score differ between promoted and non-promoted employees?"
   ]
  },
  {
   "cell_type": "code",
   "execution_count": 19,
   "id": "ac8baa34-3828-4c6a-940b-e02d47350785",
   "metadata": {},
   "outputs": [
    {
     "name": "stdout",
     "output_type": "stream",
     "text": [
      "71.32519280205655\n",
      "62.64768647786199\n"
     ]
    }
   ],
   "source": [
    " print(df[df['is_promoted'] == 1]['avg_training_score'].mean())  #ans 71.32519280205655 for promoted\n",
    " print(df[df['is_promoted'] == 0]['avg_training_score'].mean())  #ans 62.64768647786199 for non"
   ]
  },
  {
   "cell_type": "code",
   "execution_count": 20,
   "id": "9a2720ff-434a-4ece-8004-e5c249dd5916",
   "metadata": {},
   "outputs": [
    {
     "data": {
      "image/png": "[encoded data removed]",
      "text/plain": [
       "<Figure size 432x288 with 1 Axes>"
      ]
     },
     "metadata": {
      "needs_background": "light"
     },
     "output_type": "display_data"
    }
   ],
   "source": [
    "avg_training_score_promoted = df[df['is_promoted'] == 1]['avg_training_score'].mean()\n",
    "avg_training_score_non_promoted = df[df['is_promoted'] == 0]['avg_training_score'].mean()\n",
    "\n",
    "# Data for plotting\n",
    "labels = ['Promoted', 'Non-Promoted']\n",
    "scores = [avg_training_score_promoted, avg_training_score_non_promoted]\n",
    "\n",
    "# Create a bar chart\n",
    "plt.bar(labels, scores, color=['blue', 'orange'])\n",
    "plt.ylabel('Average Training Score')\n",
    "plt.title('Average Training Scores by Promotion Status')\n",
    "plt.ylim(0, 100)  # Set y-axis limit for better visibility\n",
    "plt.grid(axis='y', linestyle='--', alpha=0.7)  # Optional: add grid lines for clarity\n",
    "for i, score in enumerate(scores):\n",
    "    plt.text(i, score + 1, f'{score:.2f}', ha='center', va='bottom')\n",
    "\n",
    "# Show the plot\n",
    "plt.show()"
   ]
  },
  {
   "cell_type": "markdown",
   "id": "8d23580b-3f61-4181-8126-6d22c1680129",
   "metadata": {},
   "source": [
    "#13-What is the average length of service for promoted employees?"
   ]
  },
  {
   "cell_type": "code",
   "execution_count": 21,
   "id": "5fca539f-4351-419e-9b3f-b230af8ccea1",
   "metadata": {},
   "outputs": [
    {
     "data": {
      "text/plain": [
       "5.72"
      ]
     },
     "execution_count": 21,
     "metadata": {},
     "output_type": "execute_result"
    }
   ],
   "source": [
    " round(df[df['is_promoted'] == 1]['length_of_service'].mean(), 2) #ans 5.72 "
   ]
  },
  {
   "cell_type": "markdown",
   "id": "411ab333-55ff-427b-a6e8-673f38251064",
   "metadata": {},
   "source": [
    "14-What is the proportion of employees who have won awards among promoted employees?"
   ]
  },
  {
   "cell_type": "code",
   "execution_count": 22,
   "id": "a2189f9a-8f7e-4178-9a87-b0d97dc563a8",
   "metadata": {},
   "outputs": [
    {
     "data": {
      "text/plain": [
       "559"
      ]
     },
     "execution_count": 22,
     "metadata": {},
     "output_type": "execute_result"
    }
   ],
   "source": [
    " df[(df['awards_won?'] == 1) & (df['is_promoted'] == 1)]['awards_won?'].count()"
   ]
  },
  {
   "cell_type": "markdown",
   "id": "f8f82569-488e-4b1a-ab5b-16b23924eb12",
   "metadata": {},
   "source": [
    "15-Is there a correlation between KPIs met >80% and promotion?"
   ]
  },
  {
   "cell_type": "code",
   "execution_count": 23,
   "id": "1a9df217-4189-429d-a1d0-6da7adcc8ec2",
   "metadata": {},
   "outputs": [
    {
     "data": {
      "text/plain": [
       "0.22158153967700986"
      ]
     },
     "execution_count": 23,
     "metadata": {},
     "output_type": "execute_result"
    }
   ],
   "source": [
    "df['KPIs_met >80%'].corr(df['is_promoted'])"
   ]
  },
  {
   "cell_type": "markdown",
   "id": "e862f4e0-8273-4e15-ae0c-f6516f39d8bf",
   "metadata": {},
   "source": [
    "16-What is the correlation between the number of trainings attended and promotion?"
   ]
  },
  {
   "cell_type": "code",
   "execution_count": 24,
   "id": "248ef257-4111-40fb-a4d2-6d1ef0053885",
   "metadata": {},
   "outputs": [
    {
     "data": {
      "text/plain": [
       "-0.0248959176824125"
      ]
     },
     "execution_count": 24,
     "metadata": {},
     "output_type": "execute_result"
    }
   ],
   "source": [
    "df['no_of_trainings'].corr(df['is_promoted'])"
   ]
  },
  {
   "cell_type": "markdown",
   "id": "5250b37c-9e09-4417-897f-fa3ef0b931af",
   "metadata": {},
   "source": [
    "17-How does the length of service correlate with the average training score?"
   ]
  },
  {
   "cell_type": "code",
   "execution_count": 25,
   "id": "6917d49d-e81e-4f70-a238-e5782eadca2d",
   "metadata": {},
   "outputs": [
    {
     "data": {
      "text/plain": [
       "-0.03812215595838484"
      ]
     },
     "execution_count": 25,
     "metadata": {},
     "output_type": "execute_result"
    }
   ],
   "source": [
    "df['length_of_service'].corr(df['avg_training_score'])"
   ]
  },
  {
   "cell_type": "markdown",
   "id": "d3616d27-54fa-48cc-8f12-a36f81897d04",
   "metadata": {},
   "source": [
    "18-Is there any correlation between age and the number of trainings attended?"
   ]
  },
  {
   "cell_type": "code",
   "execution_count": 26,
   "id": "61cc4683-abaf-426e-986b-c6f9e4d6c7c2",
   "metadata": {},
   "outputs": [
    {
     "data": {
      "text/plain": [
       "-0.0812778851589133"
      ]
     },
     "execution_count": 26,
     "metadata": {},
     "output_type": "execute_result"
    }
   ],
   "source": [
    "df['age'].corr(df['no_of_trainings'])"
   ]
  },
  {
   "cell_type": "markdown",
   "id": "128226b5-dab2-486e-8e95-319398e98f91",
   "metadata": {},
   "source": [
    "19-How can you group the data by department and calculate the average age for each department?"
   ]
  },
  {
   "cell_type": "code",
   "execution_count": 27,
   "id": "ec04b18e-efe4-4743-b694-af935efe324a",
   "metadata": {},
   "outputs": [
    {
     "data": {
      "text/plain": [
       "department\n",
       "Analytics            32.0\n",
       "Finance              32.0\n",
       "HR                   34.0\n",
       "Legal                34.0\n",
       "Operations           36.0\n",
       "Procurement          36.0\n",
       "R&D                  33.0\n",
       "Sales & Marketing    35.0\n",
       "Technology           35.0\n",
       "Name: age, dtype: float64"
      ]
     },
     "execution_count": 27,
     "metadata": {},
     "output_type": "execute_result"
    }
   ],
   "source": [
    "df.groupby('department')['age'].mean().round()\n"
   ]
  },
  {
   "cell_type": "code",
   "execution_count": 30,
   "id": "8907c2b2-29cc-4070-ba11-d940b83bec89",
   "metadata": {},
   "outputs": [
    {
     "data": {
      "image/png": "[encoded data removed]",
      "text/plain": [
       "<Figure size 720x432 with 1 Axes>"
      ]
     },
     "metadata": {
      "needs_background": "light"
     },
     "output_type": "display_data"
    }
   ],
   "source": [
    "# Calculate the rounded average age for each department\n",
    "avg_age_by_department = df.groupby('department')['age'].mean().round()\n",
    "\n",
    "# Plotting the data\n",
    "plt.figure(figsize=(10, 6))  # Adjust the figure size if needed\n",
    "avg_age_by_department.plot(kind='bar', color='lightgreen')\n",
    "\n",
    "# Adding labels and title\n",
    "plt.xlabel('Department')\n",
    "plt.ylabel('Average Age (Rounded)')\n",
    "plt.title('Rounded Average Age by Department')\n",
    "\n",
    "# Annotate the bars with the rounded average age\n",
    "for index, value in enumerate(avg_age_by_department):\n",
    "    plt.text(index, value + 0.5, str(int(value)), ha='center', va='bottom')\n",
    "\n",
    "# Show the plot\n",
    "plt.tight_layout()\n",
    "plt.show()"
   ]
  },
  {
   "cell_type": "markdown",
   "id": "e9a8ef3f-5cda-495e-9c07-48cc9aa8b8da",
   "metadata": {},
   "source": [
    "20-What is the total number of trainings attended by employees in each region?"
   ]
  },
  {
   "cell_type": "code",
   "execution_count": 28,
   "id": "0f4bf168-439a-46b5-bb6c-6f2721c03627",
   "metadata": {},
   "outputs": [
    {
     "data": {
      "text/plain": [
       "region\n",
       "region_1       610\n",
       "region_10      648\n",
       "region_11     1315\n",
       "region_12      500\n",
       "region_13     2648\n",
       "region_14      827\n",
       "region_15     2808\n",
       "region_16     1465\n",
       "region_17      796\n",
       "region_18       31\n",
       "region_19      874\n",
       "region_2     12343\n",
       "region_20      850\n",
       "region_21      411\n",
       "region_22     6428\n",
       "region_23     1175\n",
       "region_24      508\n",
       "region_25      819\n",
       "region_26     2260\n",
       "region_27     1659\n",
       "region_28     1318\n",
       "region_29      994\n",
       "region_3       346\n",
       "region_30      657\n",
       "region_31     1935\n",
       "region_32      945\n",
       "region_33      269\n",
       "region_34      292\n",
       "region_4      1703\n",
       "region_5       766\n",
       "region_6       690\n",
       "region_7      4843\n",
       "region_8       655\n",
       "region_9       420\n",
       "Name: no_of_trainings, dtype: int64"
      ]
     },
     "execution_count": 28,
     "metadata": {},
     "output_type": "execute_result"
    }
   ],
   "source": [
    "df.groupby('region')['no_of_trainings'].count()"
   ]
  },
  {
   "cell_type": "code",
   "execution_count": 29,
   "id": "25240164-acbc-471a-ad09-129fcb03601d",
   "metadata": {},
   "outputs": [
    {
     "data": {
      "image/png": "[encoded data removed]",
      "text/plain": [
       "<Figure size 720x432 with 1 Axes>"
      ]
     },
     "metadata": {
      "needs_background": "light"
     },
     "output_type": "display_data"
    }
   ],
   "source": [
    "# Count the number of trainings for each region\n",
    "training_count_by_region = df.groupby('region')['no_of_trainings'].count()\n",
    "\n",
    "# Plotting the data\n",
    "plt.figure(figsize=(10, 6))  # Adjust the figure size if needed\n",
    "training_count_by_region.plot(kind='bar', color='skyblue')\n",
    "\n",
    "# Adding labels and title\n",
    "plt.xlabel('Region')\n",
    "plt.ylabel('Count of Trainings')\n",
    "plt.title('Count of Trainings by Region')\n",
    "\n",
    "# Annotate the bars with the counts\n",
    "for index, value in enumerate(training_count_by_region):\n",
    "    plt.text(index, value + 0.5, str(value), ha='center', va='bottom')\n",
    "\n",
    "# Show the plot\n",
    "plt.tight_layout()\n",
    "plt.show()\n"
   ]
  },
  {
   "cell_type": "code",
   "execution_count": null,
   "id": "fc2c668c-467b-4d6b-a26c-3640af8a5e06",
   "metadata": {},
   "outputs": [],
   "source": []
  }
 ],
 "metadata": {
  "colab": {
   "provenance": []
  },
  "kernelspec": {
   "display_name": "Python 3 (ipykernel)",
   "language": "python",
   "name": "python3"
  },
  "language_info": {
   "codemirror_mode": {
    "name": "ipython",
    "version": 3
   },
   "file_extension": ".py",
   "mimetype": "text/x-python",
   "name": "python",
   "nbconvert_exporter": "python",
   "pygments_lexer": "ipython3",
   "version": "3.9.1"
  }
 },
 "nbformat": 4,
 "nbformat_minor": 5
}
